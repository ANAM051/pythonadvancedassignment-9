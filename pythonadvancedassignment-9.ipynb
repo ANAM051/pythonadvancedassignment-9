{
 "cells": [
  {
   "cell_type": "markdown",
   "id": "156bc19e",
   "metadata": {},
   "source": [
    "Q1. In Python 3.X, what are the names and functions of string object types?\n",
    "\n",
    "Q2. How do the string forms in Python 3.X vary in terms of operations?\n",
    "\n",
    "Q3. In 3.X, how do you put non-ASCII Unicode characters in a string?\n",
    "\n",
    "Q4. In Python 3.X, what are the key differences between text-mode and binary-mode files?\n",
    "\n",
    "Q5. How can you interpret a Unicode text file containing text encoded in a different encoding than\n",
    "your platform&#39;s default?\n",
    "\n",
    "Q6. What is the best way to make a Unicode text file in a particular encoding format?\n",
    "\n",
    "Q7. What qualifies ASCII text as a form of Unicode text?\n",
    "\n",
    "Q8. How much of an effect does the change in string types in Python 3.X have on your code?"
   ]
  },
  {
   "cell_type": "markdown",
   "id": "3679d6d1",
   "metadata": {},
   "source": [
    "1.There are three string object types: str, bytes and bytearray\n",
    "\n"
   ]
  },
  {
   "cell_type": "markdown",
   "id": "55115779",
   "metadata": {},
   "source": [
    "2.The str type is used to represent Unicode strings, which are sequences of Unicode code points . It is the most commonly used string type in Python 3.X .\n",
    "\n",
    "The bytes type is used to represent sequences of bytes. It is useful for representing binary data, such as images or audio files.\n",
    "\n",
    "The bytearray type is similar to the bytes type, but it is mutable. This means that you can modify the contents of a bytearray object after it has been created ."
   ]
  },
  {
   "cell_type": "markdown",
   "id": "55a59eb3",
   "metadata": {},
   "source": [
    "3.We can put non-ASCII Unicode characters in a string by using unicode literals(using'u' before quotation mark) and backslash before the character."
   ]
  },
  {
   "cell_type": "markdown",
   "id": "5bda9b3f",
   "metadata": {},
   "source": [
    "4.differnence between text mode and binary mode are:\n",
    "  In text mode file type content is represented in str() type and in binary mode content is represented in bytes() type.\n",
    "  In text mode encoding and decoding is done while in binary mode no encoding and decoding done.\n",
    "  "
   ]
  },
  {
   "cell_type": "code",
   "execution_count": null,
   "id": "fb3736e3",
   "metadata": {},
   "outputs": [],
   "source": [
    "5.use the open() function with the encoding parameter to specify encoding of the file "
   ]
  },
  {
   "cell_type": "markdown",
   "id": "f1bcd8cc",
   "metadata": {},
   "source": [
    "6.To create a Unicode text file in a particular encoding format, you can use a text editor that supports Unicode encoding, such as Notepad++ or Sublime Text. Here are the steps to create a Unicode text file in Notepad++:\n",
    "\n",
    "Open Notepad++ and click on “File” in the top menu bar.\n",
    "Click on “New” to create a new file.\n",
    "Click on “Encoding” in the top menu bar and select “Encode in UTF-8” or any other encoding format you prefer.\n",
    "Type or paste your text into the new file.\n",
    "Save the file by clicking on “File” and then “Save”. Choose a name for your file and select “UTF-8” or your preferred encoding format from the drop-down menu next to “Encoding”."
   ]
  },
  {
   "cell_type": "markdown",
   "id": "88953afe",
   "metadata": {},
   "source": [
    "7. ASCII text can be considered as a form of Unicode text because it is a subset of Unicode and can be represented using UTF-8 encoding."
   ]
  },
  {
   "cell_type": "code",
   "execution_count": null,
   "id": "9edb4e0a",
   "metadata": {},
   "outputs": [],
   "source": [
    "8."
   ]
  }
 ],
 "metadata": {
  "kernelspec": {
   "display_name": "Python 3 (ipykernel)",
   "language": "python",
   "name": "python3"
  },
  "language_info": {
   "codemirror_mode": {
    "name": "ipython",
    "version": 3
   },
   "file_extension": ".py",
   "mimetype": "text/x-python",
   "name": "python",
   "nbconvert_exporter": "python",
   "pygments_lexer": "ipython3",
   "version": "3.9.12"
  }
 },
 "nbformat": 4,
 "nbformat_minor": 5
}
